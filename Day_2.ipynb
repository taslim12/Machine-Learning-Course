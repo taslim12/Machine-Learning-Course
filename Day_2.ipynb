{
  "nbformat": 4,
  "nbformat_minor": 0,
  "metadata": {
    "colab": {
      "provenance": [],
      "authorship_tag": "ABX9TyOPtZGzCxWiyLdaGto1Z5gQ",
      "include_colab_link": true
    },
    "kernelspec": {
      "name": "python3",
      "display_name": "Python 3"
    },
    "language_info": {
      "name": "python"
    }
  },
  "cells": [
    {
      "cell_type": "markdown",
      "metadata": {
        "id": "view-in-github",
        "colab_type": "text"
      },
      "source": [
        "<a href=\"https://colab.research.google.com/github/taslim12/Machine-Learning-Course/blob/main/Day_2.ipynb\" target=\"_parent\"><img src=\"https://colab.research.google.com/assets/colab-badge.svg\" alt=\"Open In Colab\"/></a>"
      ]
    },
    {
      "cell_type": "markdown",
      "source": [
        "# List\n",
        "it is a collection of mutable ,ordered items. mutable items can be edited once they are created . eg lists dictionaries set.\n",
        "immutable item - can not be changed. eg floatss strings,tuple,bool"
      ],
      "metadata": {
        "id": "WQiwL1urWejq"
      }
    },
    {
      "cell_type": "code",
      "source": [
        "lst = []\n",
        "print(type(lst))"
      ],
      "metadata": {
        "colab": {
          "base_uri": "https://localhost:8080/"
        },
        "id": "hRw3FRtTWhdT",
        "outputId": "65d8b0c6-900d-42ac-d941-da1e02e4a509"
      },
      "execution_count": 1,
      "outputs": [
        {
          "output_type": "stream",
          "name": "stdout",
          "text": [
            "<class 'list'>\n"
          ]
        }
      ]
    },
    {
      "cell_type": "code",
      "source": [
        "#mixed list:\n",
        "names = ['taslim','sony','tian',1,2,3,True]\n",
        "print(names)\n",
        "print(names[0])\n",
        "print(names[-7])"
      ],
      "metadata": {
        "colab": {
          "base_uri": "https://localhost:8080/"
        },
        "id": "y6CdEV8gXKx_",
        "outputId": "5291af9e-d6cb-437d-bcd8-98ed4aec661a"
      },
      "execution_count": 6,
      "outputs": [
        {
          "output_type": "stream",
          "name": "stdout",
          "text": [
            "['taslim', 'sony', 'tian', 1, 2, 3, True]\n",
            "taslim\n",
            "taslim\n"
          ]
        }
      ]
    },
    {
      "cell_type": "code",
      "source": [
        "#syntax - list[start:stop:step]\n",
        "fruits=[\"apple\",\"banana\",\"cherry\",\"guava\",\"kiwi\",\"apple\",\"banana\",\"cherry\",\"guava\",\"kiwi\",]\n",
        "print(fruits[0:])\n",
        "print(fruits[1:7])\n",
        "print(fruits[1:7:2])"
      ],
      "metadata": {
        "colab": {
          "base_uri": "https://localhost:8080/"
        },
        "id": "xTaLpFrWXivR",
        "outputId": "34d612b7-a8b3-419a-ca90-94201b81f21b"
      },
      "execution_count": 10,
      "outputs": [
        {
          "output_type": "stream",
          "name": "stdout",
          "text": [
            "['apple', 'banana', 'cherry', 'guava', 'kiwi', 'apple', 'banana', 'cherry', 'guava', 'kiwi']\n",
            "['banana', 'cherry', 'guava', 'kiwi', 'apple', 'banana']\n",
            "['banana', 'guava', 'apple']\n"
          ]
        }
      ]
    },
    {
      "cell_type": "code",
      "source": [
        "fruits=[\"apple\",\"banana\",\"cherry\",\"date\",\"elderberry\",\"fig\",\"grape\"]\n",
        "print(fruits[1:6:2])\n",
        "print(fruits[2:6:2])\n",
        "print(fruits[-2:-6:-1])"
      ],
      "metadata": {
        "colab": {
          "base_uri": "https://localhost:8080/"
        },
        "id": "kmCUvcN_YvI9",
        "outputId": "735f5f8c-04a3-4964-bb22-1f4693f92b35"
      },
      "execution_count": 13,
      "outputs": [
        {
          "output_type": "stream",
          "name": "stdout",
          "text": [
            "['banana', 'date', 'fig']\n",
            "['cherry', 'elderberry']\n",
            "['fig', 'elderberry', 'date', 'cherry']\n"
          ]
        }
      ]
    },
    {
      "cell_type": "code",
      "source": [],
      "metadata": {
        "id": "XGJY6xSyafxv"
      },
      "execution_count": null,
      "outputs": []
    }
  ]
}